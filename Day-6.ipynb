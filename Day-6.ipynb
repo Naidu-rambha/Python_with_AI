{
 "cells": [
  {
   "cell_type": "code",
   "execution_count": 8,
   "id": "f4feba27",
   "metadata": {},
   "outputs": [
    {
     "name": "stdout",
     "output_type": "stream",
     "text": [
      "22\n",
      "18\n",
      "40\n",
      "10.0\n",
      "0\n",
      "10\n",
      "400\n"
     ]
    }
   ],
   "source": [
    "x=20\n",
    "y=2\n",
    "print(x+y) \n",
    "print(x-y)\n",
    "print(x*y)\n",
    "print(x/y)\n",
    "print(x%y)\n",
    "print(x//y)\n",
    "print(x**y)"
   ]
  },
  {
   "cell_type": "markdown",
   "id": "4a1e6946",
   "metadata": {},
   "source": [
    "# Assignment Operators"
   ]
  },
  {
   "cell_type": "code",
   "execution_count": 13,
   "id": "737a9e11",
   "metadata": {},
   "outputs": [
    {
     "name": "stdout",
     "output_type": "stream",
     "text": [
      "11\n",
      "7\n",
      "42\n",
      "10.5\n",
      "1340095.640625\n",
      "3.640625\n",
      "1.0\n"
     ]
    }
   ],
   "source": [
    "x = 5\n",
    "x += 6\n",
    "print(x)\n",
    "x -= 4\n",
    "print(x)\n",
    "x *= 6\n",
    "print(x)\n",
    "x /= 4\n",
    "print(x)\n",
    "x **= 6\n",
    "print(x)\n",
    "x %= 4\n",
    "print(x)\n",
    "x //= 3\n",
    "print(x)"
   ]
  },
  {
   "cell_type": "markdown",
   "id": "568dabec",
   "metadata": {},
   "source": [
    "# Comparision Operators\n",
    " - used to compare values\n",
    "  \n",
    "  \n",
    "\n",
    "  "
   ]
  },
  {
   "cell_type": "markdown",
   "id": "2b6ce6ae",
   "metadata": {},
   "source": [
    "x=5\n",
    "y=5\n",
    "print(x == y)\n",
    "print(x != y)\n",
    "print(x < y)\n",
    "print(x > y)\n",
    "print(x <= y)\n",
    "print(x >= y)\n"
   ]
  },
  {
   "cell_type": "markdown",
   "id": "0c598a48",
   "metadata": {},
   "source": [
    "# Logical Operators"
   ]
  },
  {
   "cell_type": "code",
   "execution_count": 16,
   "id": "89a868fa",
   "metadata": {},
   "outputs": [
    {
     "name": "stdout",
     "output_type": "stream",
     "text": [
      "False\n",
      "True\n",
      "True\n"
     ]
    }
   ],
   "source": [
    "x=3\n",
    "print(x > 5 and x<5)\n",
    "print(x>5 or x<5)\n",
    "print(not(x>5 and x<5))"
   ]
  },
  {
   "cell_type": "markdown",
   "id": "39d92143",
   "metadata": {},
   "source": [
    "# Identity operators\n",
    "-**is**\n",
    " -**is not**"
   ]
  },
  {
   "cell_type": "code",
   "execution_count": 17,
   "id": "b5d1d823",
   "metadata": {},
   "outputs": [
    {
     "name": "stdout",
     "output_type": "stream",
     "text": [
      "True\n",
      "False\n",
      "True\n"
     ]
    }
   ],
   "source": [
    "x=4\n",
    "y=4\n",
    "z=3\n",
    "print(x is y)\n",
    "print(x is z)\n",
    "print(x is y is not z)\n"
   ]
  },
  {
   "cell_type": "markdown",
   "id": "797f7a05",
   "metadata": {},
   "source": [
    "# Membership operators"
   ]
  },
  {
   "cell_type": "code",
   "execution_count": 18,
   "id": "1ef0689d",
   "metadata": {},
   "outputs": [
    {
     "name": "stdout",
     "output_type": "stream",
     "text": [
      "True\n",
      "True\n",
      "False\n"
     ]
    }
   ],
   "source": [
    "s = \"python\"\n",
    "print(\"y\" in s)\n",
    "print(\"th\" in s)\n",
    "print(\"to\" in s)"
   ]
  },
  {
   "cell_type": "markdown",
   "id": "eb718063",
   "metadata": {},
   "source": [
    "# control flow staements\n",
    "- conditional statements\n",
    " - "
   ]
  },
  {
   "cell_type": "code",
   "execution_count": 21,
   "id": "287af1ea",
   "metadata": {},
   "outputs": [
    {
     "name": "stdout",
     "output_type": "stream",
     "text": [
      "enter a number10\n",
      "Even number\n"
     ]
    }
   ],
   "source": [
    "# check given number is even or odd\n",
    "n = int(input(\"enter a number\"))\n",
    "if n%2==0:\n",
    "    print(\"Even number\")\n",
    "else:\n",
    "    print(\"odd number\")\n",
    "        \n",
    "        \n",
    "        \n",
    "    "
   ]
  },
  {
   "cell_type": "code",
   "execution_count": 24,
   "id": "aa3d4019",
   "metadata": {},
   "outputs": [
    {
     "name": "stdout",
     "output_type": "stream",
     "text": [
      "enter a number15\n",
      "yes\n"
     ]
    }
   ],
   "source": [
    "# check given number is multiple of both 3 and 5\n",
    "n=int(input(\"enter a number\"))\n",
    "if n%3==0 and n%5==0:\n",
    "    print(\"yes\")\n",
    "else:\n",
    "    print(\"no\")\n",
    "    "
   ]
  },
  {
   "cell_type": "code",
   "execution_count": 29,
   "id": "9a81a931",
   "metadata": {},
   "outputs": [
    {
     "name": "stdout",
     "output_type": "stream",
     "text": [
      "enter a number0\n",
      "Zero\n"
     ]
    }
   ],
   "source": [
    "# check given number is positive, negative or zero\n",
    "n=int(input(\"enter a number\"))\n",
    "if n==0:\n",
    "    print(\"Zero\")\n",
    "elif n>0:\n",
    "    print(\"positve\")\n",
    "else:\n",
    "    print(\"Negative\")"
   ]
  },
  {
   "cell_type": "code",
   "execution_count": 31,
   "id": "a8008a4e",
   "metadata": {},
   "outputs": [
    {
     "name": "stdout",
     "output_type": "stream",
     "text": [
      "enter first number2\n",
      "Enter second number5\n",
      "Enter third number0\n",
      "y\n"
     ]
    }
   ],
   "source": [
    "# find large number from 3 inputs\n",
    "X=int(input(\"enter first number\"))\n",
    "y=int(input(\"Enter second number\"))\n",
    "z=int(input(\"Enter third number\"))\n",
    "if x>y>z:\n",
    "    print(\"x\")\n",
    "elif y>z:\n",
    "    print(\"y\")\n",
    "else:\n",
    "    print(\"z\")"
   ]
  },
  {
   "cell_type": "code",
   "execution_count": 1,
   "id": "5f089bd2",
   "metadata": {},
   "outputs": [
    {
     "name": "stdout",
     "output_type": "stream",
     "text": [
      "Enter Marks101\n",
      "F\n"
     ]
    }
   ],
   "source": [
    "# find grading\n",
    "\n",
    "n=int(input(\"Enter Marks\"))\n",
    "if n>92 and n<=100:\n",
    "    print(\"O\")\n",
    "elif n>=82 and n<=92:\n",
    "    print(\"S\")\n",
    "elif n>=72 and n<82:\n",
    "    print(\"A\")\n",
    "elif n>=62 and n<72:\n",
    "    print(\"B\")\n",
    "elif n>=52 and n<62:\n",
    "    print(\"C\")\n",
    "elif n>=40 and n<52:\n",
    "    print(\"D\")\n",
    "else:\n",
    "    print(\"F\")\n",
    "    "
   ]
  },
  {
   "cell_type": "markdown",
   "id": "7f3f0fed",
   "metadata": {},
   "source": [
    "# while Loop Statement\n"
   ]
  },
  {
   "cell_type": "code",
   "execution_count": 1,
   "id": "3c33810e",
   "metadata": {},
   "outputs": [
    {
     "name": "stdout",
     "output_type": "stream",
     "text": [
      "python\n",
      "python\n",
      "python\n",
      "python\n",
      "python\n"
     ]
    }
   ],
   "source": [
    "# want to print python 5 times\n",
    "i=1\n",
    "while i<=5:\n",
    "    print(\"python\")\n",
    "    i=i+1"
   ]
  },
  {
   "cell_type": "code",
   "execution_count": 4,
   "id": "a3b8fa0c",
   "metadata": {},
   "outputs": [
    {
     "name": "stdout",
     "output_type": "stream",
     "text": [
      "1 2 3 4 5 6 7 8 9 10 "
     ]
    }
   ],
   "source": [
    "# print numbers from 1 to 10\n",
    "i=1\n",
    "while i<=10:\n",
    "    print(i, end =\" \")\n",
    "    i=i+1"
   ]
  },
  {
   "cell_type": "code",
   "execution_count": 4,
   "id": "6d2ba806",
   "metadata": {},
   "outputs": [
    {
     "name": "stdout",
     "output_type": "stream",
     "text": [
      "2 4 6 8 10 "
     ]
    }
   ],
   "source": [
    "# print even numbers betweem 1 to 10\n",
    "i =2\n",
    "while i<=10:\n",
    "    print(i, end=\" \")\n",
    "    i=i+2"
   ]
  },
  {
   "cell_type": "code",
   "execution_count": null,
   "id": "0380f475",
   "metadata": {},
   "outputs": [
    {
     "name": "stdout",
     "output_type": "stream",
     "text": [
      "Enter a Number88\n",
      "1 2 "
     ]
    }
   ],
   "source": [
    "# print factors of 6\n",
    "n=int(input(\"Enter a Number\"))\n",
    "i=1\n",
    "while i<=n:\n",
    "    if n%i ==0:\n",
    "        print(i,end=\" \")\n",
    "        i=i+1"
   ]
  },
  {
   "cell_type": "code",
   "execution_count": null,
   "id": "be97dcac",
   "metadata": {},
   "outputs": [],
   "source": []
  }
 ],
 "metadata": {
  "kernelspec": {
   "display_name": "Python 3",
   "language": "python",
   "name": "python3"
  }
 },
 "nbformat": 4,
 "nbformat_minor": 5
}
