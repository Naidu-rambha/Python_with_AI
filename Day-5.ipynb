{
 "cells": [
  {
   "cell_type": "markdown",
   "id": "196e3e3e",
   "metadata": {},
   "source": [
    "\n",
    "# markdown\n",
    "## markdown\n",
    "### markdown\n",
    "#### markdown\n",
    "- python\n",
    "  - python 1\n",
    "  - python 2\n",
    "    - python 1\n",
    "    - python 2\n",
    "- *python*\n",
    "- **python**\n",
    "- ***python***"
   ]
  },
  {
   "cell_type": "code",
   "execution_count": 2,
   "id": "276290e6",
   "metadata": {},
   "outputs": [
    {
     "name": "stdout",
     "output_type": "stream",
     "text": [
      "hello world\n"
     ]
    }
   ],
   "source": [
    "print(\"hello world\")"
   ]
  },
  {
   "cell_type": "code",
   "execution_count": 3,
   "id": "5002abe1",
   "metadata": {},
   "outputs": [
    {
     "name": "stdout",
     "output_type": "stream",
     "text": [
      "HELLO WORLD\n"
     ]
    }
   ],
   "source": [
    "print(\"HELLO WORLD\")"
   ]
  },
  {
   "cell_type": "code",
   "execution_count": 4,
   "id": "c2c38fe7",
   "metadata": {},
   "outputs": [
    {
     "name": "stdout",
     "output_type": "stream",
     "text": [
      "balu sister laxmi\n"
     ]
    }
   ],
   "source": [
    "print(\"balu\",\"sister\",\"laxmi\")"
   ]
  },
  {
   "cell_type": "code",
   "execution_count": 5,
   "id": "013bf071",
   "metadata": {},
   "outputs": [
    {
     "name": "stdout",
     "output_type": "stream",
     "text": [
      "10\n"
     ]
    }
   ],
   "source": [
    "a=10 #single variable assained to single value#\n",
    "print(a)"
   ]
  },
  {
   "cell_type": "code",
   "execution_count": 6,
   "id": "391ba506",
   "metadata": {},
   "outputs": [
    {
     "name": "stdout",
     "output_type": "stream",
     "text": [
      "10 10 10\n"
     ]
    }
   ],
   "source": [
    "a=b=c=10 #multiple variables assained to single value#\n",
    "print(a,b,c)"
   ]
  },
  {
   "cell_type": "code",
   "execution_count": 7,
   "id": "efbc5fc9",
   "metadata": {},
   "outputs": [
    {
     "name": "stdout",
     "output_type": "stream",
     "text": [
      "10 20 30\n"
     ]
    }
   ],
   "source": [
    "a,b,c=10,20,30 #multiple variables assained to multiple values#\n",
    "print(a,b,c)"
   ]
  },
  {
   "cell_type": "markdown",
   "id": "b7593117",
   "metadata": {},
   "source": [
    "# Data types:\n",
    "  - integer\n",
    "  - float\n",
    "  - string"
   ]
  },
  {
   "cell_type": "code",
   "execution_count": 8,
   "id": "093efc7a",
   "metadata": {},
   "outputs": [
    {
     "name": "stdout",
     "output_type": "stream",
     "text": [
      "5 <class 'int'>\n"
     ]
    }
   ],
   "source": [
    "# int\n",
    "a=5\n",
    "print(a, type(a))"
   ]
  },
  {
   "cell_type": "code",
   "execution_count": 9,
   "id": "286a7fd4",
   "metadata": {},
   "outputs": [
    {
     "name": "stdout",
     "output_type": "stream",
     "text": [
      "2.5 <class 'float'>\n"
     ]
    }
   ],
   "source": [
    "#float\n",
    "a=2.5\n",
    "print(a,type(a))"
   ]
  },
  {
   "cell_type": "code",
   "execution_count": 12,
   "id": "9e9fad00",
   "metadata": {},
   "outputs": [
    {
     "name": "stdout",
     "output_type": "stream",
     "text": [
      "NAIDU RAMBHA <class 'str'>\n"
     ]
    }
   ],
   "source": [
    "#string\n",
    "a=\"NAIDU RAMBHA\"\n",
    "print(a, type(a))"
   ]
  },
  {
   "cell_type": "markdown",
   "id": "921aec0a",
   "metadata": {},
   "source": [
    "# Data conversion\n",
    "  - integer-->**int**\n",
    "  - float-->**float**\n",
    "  - string-->**str**"
   ]
  },
  {
   "cell_type": "markdown",
   "id": "ce9f60d1",
   "metadata": {},
   "source": [
    "n=10\n",
    "print(n,type(n))\n",
    "f=float(n)\n",
    "print(f,type(f))\n",
    "s=str(n)\n",
    "print(s,type(s))"
   ]
  },
  {
   "cell_type": "code",
   "execution_count": 21,
   "id": "c3e2d733",
   "metadata": {},
   "outputs": [
    {
     "name": "stdout",
     "output_type": "stream",
     "text": [
      "1.3 <class 'float'>\n",
      "1 <class 'int'>\n",
      "1.3 <class 'str'>\n"
     ]
    }
   ],
   "source": [
    "f=1.3\n",
    "print(f,type(f))\n",
    "n=int(f)\n",
    "print(n,type(n))\n",
    "s=str(f)\n",
    "print(s,type(s))"
   ]
  },
  {
   "cell_type": "code",
   "execution_count": 25,
   "id": "55e31898",
   "metadata": {},
   "outputs": [
    {
     "name": "stdout",
     "output_type": "stream",
     "text": [
      "123 <class 'str'>\n",
      "123 <class 'int'>\n",
      "123.0 <class 'float'>\n"
     ]
    }
   ],
   "source": [
    "s=\"123\"\n",
    "print(s,type(s))\n",
    "n=int(s)\n",
    "print(n,type(n))\n",
    "f=float(s)\n",
    "print(f,type(f))"
   ]
  },
  {
   "cell_type": "markdown",
   "id": "87aa6847",
   "metadata": {},
   "source": [
    "# Display three string “Name”, “Is”, “James” as “Name**Is**James”"
   ]
  },
  {
   "cell_type": "code",
   "execution_count": 26,
   "id": "f063f64e",
   "metadata": {},
   "outputs": [
    {
     "name": "stdout",
     "output_type": "stream",
     "text": [
      "NAME IS JAMES\n"
     ]
    }
   ],
   "source": [
    "a=\"NAME\"\n",
    "b=\"IS\"\n",
    "c=\"JAMES\"\n",
    "print(a,b,c)"
   ]
  },
  {
   "cell_type": "markdown",
   "id": "caf9955a",
   "metadata": {},
   "source": [
    "# Write a Python program which accepts the radius of a circle from the user and compute the area "
   ]
  },
  {
   "cell_type": "code",
   "execution_count": 29,
   "id": "503d9d6d",
   "metadata": {},
   "outputs": [
    {
     "name": "stdout",
     "output_type": "stream",
     "text": [
      "enter your name:nani\n",
      "my name is: nani\n",
      "<class 'str'>\n"
     ]
    }
   ],
   "source": [
    "# input as text\n",
    "a=input(\"enter your name:\")\n",
    "print(\"my name is:\",a)\n",
    "print(type(a))\n"
   ]
  },
  {
   "cell_type": "code",
   "execution_count": 30,
   "id": "3770d771",
   "metadata": {},
   "outputs": [
    {
     "name": "stdout",
     "output_type": "stream",
     "text": [
      "enter a number:22\n",
      "22\n",
      "<class 'int'>\n"
     ]
    }
   ],
   "source": [
    "# input as number\n",
    "a=int(input(\"enter a number:\"))\n",
    "print(a)\n",
    "print(type(a))"
   ]
  },
  {
   "cell_type": "code",
   "execution_count": 34,
   "id": "5616e94e",
   "metadata": {},
   "outputs": [
    {
     "name": "stdout",
     "output_type": "stream",
     "text": [
      "enter a radius:10\n",
      "area of the circle is 314.0\n"
     ]
    }
   ],
   "source": [
    "radius=int(input(\"enter a radius:\"))\n",
    "area=3.14*radius**2\n",
    "print(\"area of the circle is\",area)"
   ]
  },
  {
   "cell_type": "markdown",
   "id": "934bbb28",
   "metadata": {},
   "source": [
    "# Accept two numbers from the user and return their sum, multiplication and division"
   ]
  },
  {
   "cell_type": "code",
   "execution_count": 39,
   "id": "e8453c63",
   "metadata": {},
   "outputs": [
    {
     "name": "stdout",
     "output_type": "stream",
     "text": [
      "enter first number3\n",
      "enter second number3\n",
      "addition is: 6 multiplicationis: 9 division is: 1.0\n"
     ]
    }
   ],
   "source": [
    "a=int(input(\"enter first number\"))\n",
    "b=int(input(\"enter second number\"))\n",
    "print(\"addition is:\",a+b, \"multiplicationis:\",a*b,\"division is:\",a/b)"
   ]
  },
  {
   "cell_type": "markdown",
   "id": "51b70ec7",
   "metadata": {},
   "source": [
    "# Using input() function, print() function and another function you may need; ask for the current year, then print the answer +50.\n",
    "\n"
   ]
  },
  {
   "cell_type": "code",
   "execution_count": 40,
   "id": "0ad0342c",
   "metadata": {},
   "outputs": [
    {
     "name": "stdout",
     "output_type": "stream",
     "text": [
      "enter a year2000\n",
      "result= 2050\n"
     ]
    }
   ],
   "source": [
    "year=int(input(\"enter a year\"))\n",
    "print(\"result=\",year+50)"
   ]
  },
  {
   "cell_type": "code",
   "execution_count": null,
   "id": "928ef59c",
   "metadata": {},
   "outputs": [],
   "source": []
  }
 ],
 "metadata": {
  "kernelspec": {
   "display_name": "Python 3",
   "language": "python",
   "name": "python3"
  },
  "language_info": {
   "codemirror_mode": {
    "name": "ipython",
    "version": 3
   },
   "file_extension": ".py",
   "mimetype": "text/x-python",
   "name": "python",
   "nbconvert_exporter": "python",
   "pygments_lexer": "ipython3",
   "version": "3.8.8"
  }
 },
 "nbformat": 4,
 "nbformat_minor": 5
}
